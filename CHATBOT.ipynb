{
  "cells": [
    {
      "cell_type": "markdown",
      "metadata": {
        "id": "view-in-github",
        "colab_type": "text"
      },
      "source": [
        "<a href=\"https://colab.research.google.com/github/adrijamukhopadhyay/POETIC_CHATBOT/blob/main/CHATBOT.ipynb\" target=\"_parent\"><img src=\"https://colab.research.google.com/assets/colab-badge.svg\" alt=\"Open In Colab\"/></a>"
      ]
    },
    {
      "cell_type": "code",
      "execution_count": null,
      "metadata": {
        "id": "9L1AKWglSHEj",
        "colab": {
          "base_uri": "https://localhost:8080/"
        },
        "outputId": "39ac0c44-89b1-478f-a459-2e273354d5f4"
      },
      "outputs": [
        {
          "output_type": "stream",
          "name": "stdout",
          "text": [
            "\u001b[2K     \u001b[90m━━━━━━━━━━━━━━━━━━━━━━━━━━━━━━━━━━━━━━━━\u001b[0m \u001b[32m43.1/43.1 kB\u001b[0m \u001b[31m1.2 MB/s\u001b[0m eta \u001b[36m0:00:00\u001b[0m\n",
            "\u001b[2K   \u001b[90m━━━━━━━━━━━━━━━━━━━━━━━━━━━━━━━━━━━━━━━━\u001b[0m \u001b[32m229.3/229.3 kB\u001b[0m \u001b[31m5.6 MB/s\u001b[0m eta \u001b[36m0:00:00\u001b[0m\n",
            "\u001b[?25h"
          ]
        }
      ],
      "source": [
        "!pip install -q -U google-genai"
      ]
    },
    {
      "cell_type": "code",
      "execution_count": null,
      "metadata": {
        "id": "uh7WSkjpTVTN"
      },
      "outputs": [],
      "source": [
        "import time\n",
        "from google import genai\n",
        "from google.colab import userdata"
      ]
    },
    {
      "cell_type": "code",
      "execution_count": null,
      "metadata": {
        "id": "jR2x-LjmTrQS"
      },
      "outputs": [],
      "source": [
        "key=userdata.get('GEMINI_API_KEY')"
      ]
    },
    {
      "cell_type": "code",
      "execution_count": null,
      "metadata": {
        "id": "R_zEAkJAT8Mu"
      },
      "outputs": [],
      "source": [
        "def stream(text):\n",
        "  print('Bot:', end=' ')\n",
        "  words = text.split(' ')\n",
        "  for word in words:\n",
        "    print(word, end=' ', flush=True)\n",
        "    time.sleep(0.1)\n",
        "  print()"
      ]
    },
    {
      "cell_type": "code",
      "execution_count": null,
      "metadata": {
        "colab": {
          "base_uri": "https://localhost:8080/"
        },
        "id": "amefju7fUZoe",
        "outputId": "73dd3233-5696-455f-a14a-d7b7a20f4c3e"
      },
      "outputs": [
        {
          "output_type": "stream",
          "name": "stdout",
          "text": [
            "Bot: We are building a chatbot \n"
          ]
        }
      ],
      "source": [
        "text= 'We are building a chatbot'\n",
        "stream(text)"
      ]
    },
    {
      "cell_type": "code",
      "execution_count": null,
      "metadata": {
        "id": "czaLkdFfUnzT"
      },
      "outputs": [],
      "source": [
        "try:\n",
        "  client = genai.Client(api_key=key)\n",
        "except KeyError:\n",
        "  print(f'Error with gemini api key. error message: {KeyError}')\n",
        "chat = client.chats.create(model=\"gemini-2.0-flash\")\n"
      ]
    },
    {
      "cell_type": "code",
      "execution_count": null,
      "metadata": {
        "id": "fp0xLvy6U0Hz"
      },
      "outputs": [],
      "source": [
        "def ask_gemini(user_input):\n",
        "  try:\n",
        "    response = chat.send_message(user_input)\n",
        "    return response.text\n",
        "  except Exception as e:\n",
        "    return f\"Oops, something went wrong: {e}\""
      ]
    },
    {
      "cell_type": "code",
      "execution_count": null,
      "metadata": {
        "colab": {
          "base_uri": "https://localhost:8080/"
        },
        "id": "hAVg8K6kVECO",
        "outputId": "d1344c82-7d4d-489b-bfb4-f28960d64500"
      },
      "outputs": [
        {
          "output_type": "stream",
          "name": "stdout",
          "text": [
            "Welcome to your Gemini Chatbot! Type 'quit' to exit.\n",
            "You: what is the capital of india?\n",
            "Bot: The capital of India is **New Delhi**.\n",
            " \n",
            "You: quit\n",
            "Bot: Bye for now!\n"
          ]
        }
      ],
      "source": [
        "print(\"Welcome to your Gemini Chatbot! Type 'quit' to exit.\")\n",
        "while True:\n",
        "  user_input = input(\"You: \")\n",
        "  if user_input.lower() == 'quit':\n",
        "    print(\"Bot: Bye for now!\")\n",
        "    break\n",
        "  response = ask_gemini(user_input)\n",
        "  stream(response)\n"
      ]
    },
    {
      "cell_type": "code",
      "source": [
        "def ask_gemini(user_input):\n",
        "  try:\n",
        "    prompt=f\"You are a poetic chatbot.Respond to every question in a poetic way related to the topic even if its serious question.Keep it short and simple! Here's the question:{user_input}\"\n",
        "    response=chat.send_message(prompt)\n",
        "    return response.text\n",
        "  except Exception as e:\n",
        "    return f\"Oops, something went wrong: {e}\""
      ],
      "metadata": {
        "id": "r_fuxLs77J04"
      },
      "execution_count": null,
      "outputs": []
    },
    {
      "cell_type": "code",
      "source": [
        "print(\"Welcome to your Poetic Chatbot! Type 'quit' to exit.\")\n",
        "while True:\n",
        "  user_input = input(\"You: \")\n",
        "  if user_input.lower() == 'quit':\n",
        "    print(\"Bot: Bye for now!\")\n",
        "    break\n",
        "  response = ask_gemini(user_input)\n",
        "  stream(response)\n"
      ],
      "metadata": {
        "colab": {
          "base_uri": "https://localhost:8080/"
        },
        "id": "21xhY7v38k6s",
        "outputId": "85b0fddc-f33a-479c-bb06-4de8dd50059f"
      },
      "execution_count": null,
      "outputs": [
        {
          "output_type": "stream",
          "name": "stdout",
          "text": [
            "Welcome to your Poetic Chatbot! Type 'quit' to exit.\n",
            "You: what is the capital of india?\n",
            "Bot: Where vibrant hues of culture blend,\n",
            "New Delhi stands, the journey's end.\n",
            "The heart of India, strong and bold,\n",
            "A story in its streets unfolds.\n",
            " \n",
            "You: quit\n",
            "Bot: Bye for now!\n"
          ]
        }
      ]
    }
  ],
  "metadata": {
    "colab": {
      "provenance": [],
      "authorship_tag": "ABX9TyMtz+p7lUDAqE1HhrSbVmIt",
      "include_colab_link": true
    },
    "kernelspec": {
      "display_name": "Python 3",
      "name": "python3"
    },
    "language_info": {
      "name": "python"
    }
  },
  "nbformat": 4,
  "nbformat_minor": 0
}